{
 "cells": [
  {
   "cell_type": "code",
   "execution_count": 1,
   "id": "f206fb36",
   "metadata": {},
   "outputs": [
    {
     "name": "stdout",
     "output_type": "stream",
     "text": [
      "Python 3.10.9\n"
     ]
    }
   ],
   "source": [
    "!python --version"
   ]
  },
  {
   "cell_type": "markdown",
   "id": "e0652bb7",
   "metadata": {},
   "source": [
    "Basic Data Types\n",
    "1. Integer\n",
    "2. Float\n",
    "3. String\n",
    "4. Boolean"
   ]
  },
  {
   "cell_type": "code",
   "execution_count": 4,
   "id": "452ab141",
   "metadata": {},
   "outputs": [
    {
     "data": {
      "text/plain": [
       "int"
      ]
     },
     "execution_count": 4,
     "metadata": {},
     "output_type": "execute_result"
    }
   ],
   "source": [
    "x = 2\n",
    "type(x)"
   ]
  },
  {
   "cell_type": "code",
   "execution_count": 5,
   "id": "1326732f",
   "metadata": {},
   "outputs": [
    {
     "data": {
      "text/plain": [
       "float"
      ]
     },
     "execution_count": 5,
     "metadata": {},
     "output_type": "execute_result"
    }
   ],
   "source": [
    "y = 2.0\n",
    "type(y)"
   ]
  },
  {
   "cell_type": "markdown",
   "id": "bd28ccba",
   "metadata": {},
   "source": [
    "See Yourself: How much bits/bytes is Python int data type"
   ]
  },
  {
   "cell_type": "code",
   "execution_count": null,
   "id": "acb1ff0d",
   "metadata": {},
   "outputs": [
    {
     "name": "stdout",
     "output_type": "stream",
     "text": [
      "False\n"
     ]
    }
   ],
   "source": [
    "t, f = True, False\n",
    "print(t and f)"
   ]
  },
  {
   "cell_type": "code",
   "execution_count": 7,
   "id": "740ad4be",
   "metadata": {},
   "outputs": [
    {
     "name": "stdout",
     "output_type": "stream",
     "text": [
      "True\n"
     ]
    }
   ],
   "source": [
    "print(t or f)"
   ]
  },
  {
   "cell_type": "code",
   "execution_count": 8,
   "id": "2fad0246",
   "metadata": {},
   "outputs": [
    {
     "data": {
      "text/plain": [
       "['__add__',\n",
       " '__class__',\n",
       " '__contains__',\n",
       " '__delattr__',\n",
       " '__dir__',\n",
       " '__doc__',\n",
       " '__eq__',\n",
       " '__format__',\n",
       " '__ge__',\n",
       " '__getattribute__',\n",
       " '__getitem__',\n",
       " '__getnewargs__',\n",
       " '__gt__',\n",
       " '__hash__',\n",
       " '__init__',\n",
       " '__init_subclass__',\n",
       " '__iter__',\n",
       " '__le__',\n",
       " '__len__',\n",
       " '__lt__',\n",
       " '__mod__',\n",
       " '__mul__',\n",
       " '__ne__',\n",
       " '__new__',\n",
       " '__reduce__',\n",
       " '__reduce_ex__',\n",
       " '__repr__',\n",
       " '__rmod__',\n",
       " '__rmul__',\n",
       " '__setattr__',\n",
       " '__sizeof__',\n",
       " '__str__',\n",
       " '__subclasshook__',\n",
       " 'capitalize',\n",
       " 'casefold',\n",
       " 'center',\n",
       " 'count',\n",
       " 'encode',\n",
       " 'endswith',\n",
       " 'expandtabs',\n",
       " 'find',\n",
       " 'format',\n",
       " 'format_map',\n",
       " 'index',\n",
       " 'isalnum',\n",
       " 'isalpha',\n",
       " 'isascii',\n",
       " 'isdecimal',\n",
       " 'isdigit',\n",
       " 'isidentifier',\n",
       " 'islower',\n",
       " 'isnumeric',\n",
       " 'isprintable',\n",
       " 'isspace',\n",
       " 'istitle',\n",
       " 'isupper',\n",
       " 'join',\n",
       " 'ljust',\n",
       " 'lower',\n",
       " 'lstrip',\n",
       " 'maketrans',\n",
       " 'partition',\n",
       " 'removeprefix',\n",
       " 'removesuffix',\n",
       " 'replace',\n",
       " 'rfind',\n",
       " 'rindex',\n",
       " 'rjust',\n",
       " 'rpartition',\n",
       " 'rsplit',\n",
       " 'rstrip',\n",
       " 'split',\n",
       " 'splitlines',\n",
       " 'startswith',\n",
       " 'strip',\n",
       " 'swapcase',\n",
       " 'title',\n",
       " 'translate',\n",
       " 'upper',\n",
       " 'zfill']"
      ]
     },
     "execution_count": 8,
     "metadata": {},
     "output_type": "execute_result"
    }
   ],
   "source": [
    "dir(str)"
   ]
  },
  {
   "cell_type": "code",
   "execution_count": null,
   "id": "a052ac72",
   "metadata": {},
   "outputs": [
    {
     "name": "stdout",
     "output_type": "stream",
     "text": [
      "abcabcabc\n"
     ]
    }
   ],
   "source": [
    "s = \"abc\"\n",
    "print(s * 3)"
   ]
  },
  {
   "cell_type": "markdown",
   "id": "70c35136",
   "metadata": {},
   "source": [
    "### List"
   ]
  },
  {
   "cell_type": "code",
   "execution_count": 18,
   "id": "bf93265e",
   "metadata": {},
   "outputs": [],
   "source": [
    "my_list = [1, 2, 4, 5,8]"
   ]
  },
  {
   "cell_type": "code",
   "execution_count": 14,
   "id": "87e7e2ae",
   "metadata": {},
   "outputs": [
    {
     "name": "stdout",
     "output_type": "stream",
     "text": [
      "[1, 2, 4, 5]\n"
     ]
    }
   ],
   "source": [
    "print(my_list)"
   ]
  },
  {
   "cell_type": "code",
   "execution_count": 15,
   "id": "01de4c08",
   "metadata": {},
   "outputs": [
    {
     "data": {
      "text/plain": [
       "list"
      ]
     },
     "execution_count": 15,
     "metadata": {},
     "output_type": "execute_result"
    }
   ],
   "source": [
    "type(my_list)"
   ]
  },
  {
   "cell_type": "code",
   "execution_count": 17,
   "id": "4a237254",
   "metadata": {},
   "outputs": [
    {
     "data": {
      "text/plain": [
       "['__add__',\n",
       " '__class__',\n",
       " '__class_getitem__',\n",
       " '__contains__',\n",
       " '__delattr__',\n",
       " '__delitem__',\n",
       " '__dir__',\n",
       " '__doc__',\n",
       " '__eq__',\n",
       " '__format__',\n",
       " '__ge__',\n",
       " '__getattribute__',\n",
       " '__getitem__',\n",
       " '__gt__',\n",
       " '__hash__',\n",
       " '__iadd__',\n",
       " '__imul__',\n",
       " '__init__',\n",
       " '__init_subclass__',\n",
       " '__iter__',\n",
       " '__le__',\n",
       " '__len__',\n",
       " '__lt__',\n",
       " '__mul__',\n",
       " '__ne__',\n",
       " '__new__',\n",
       " '__reduce__',\n",
       " '__reduce_ex__',\n",
       " '__repr__',\n",
       " '__reversed__',\n",
       " '__rmul__',\n",
       " '__setattr__',\n",
       " '__setitem__',\n",
       " '__sizeof__',\n",
       " '__str__',\n",
       " '__subclasshook__',\n",
       " 'append',\n",
       " 'clear',\n",
       " 'copy',\n",
       " 'count',\n",
       " 'extend',\n",
       " 'index',\n",
       " 'insert',\n",
       " 'pop',\n",
       " 'remove',\n",
       " 'reverse',\n",
       " 'sort']"
      ]
     },
     "execution_count": 17,
     "metadata": {},
     "output_type": "execute_result"
    }
   ],
   "source": [
    "dir(my_list)"
   ]
  },
  {
   "cell_type": "code",
   "execution_count": 24,
   "id": "57b624cf",
   "metadata": {},
   "outputs": [
    {
     "data": {
      "text/plain": [
       "[1, 4]"
      ]
     },
     "execution_count": 24,
     "metadata": {},
     "output_type": "execute_result"
    }
   ],
   "source": [
    "my_list[0:4:2]"
   ]
  },
  {
   "cell_type": "code",
   "execution_count": 23,
   "id": "38c04bd4",
   "metadata": {},
   "outputs": [
    {
     "data": {
      "text/plain": [
       "[1, 4, 8]"
      ]
     },
     "execution_count": 23,
     "metadata": {},
     "output_type": "execute_result"
    }
   ],
   "source": [
    "my_list[0::2]"
   ]
  },
  {
   "cell_type": "code",
   "execution_count": 25,
   "id": "25499ab1",
   "metadata": {},
   "outputs": [],
   "source": [
    "my_list[0]='abc'"
   ]
  },
  {
   "cell_type": "code",
   "execution_count": 26,
   "id": "22c870f1",
   "metadata": {},
   "outputs": [
    {
     "data": {
      "text/plain": [
       "['abc', 2, 4, 5, 8]"
      ]
     },
     "execution_count": 26,
     "metadata": {},
     "output_type": "execute_result"
    }
   ],
   "source": [
    "my_list"
   ]
  },
  {
   "cell_type": "code",
   "execution_count": 27,
   "id": "2a5e9e39",
   "metadata": {},
   "outputs": [
    {
     "data": {
      "text/plain": [
       "8"
      ]
     },
     "execution_count": 27,
     "metadata": {},
     "output_type": "execute_result"
    }
   ],
   "source": [
    "my_list.pop()"
   ]
  },
  {
   "cell_type": "code",
   "execution_count": 29,
   "id": "41a7fa93",
   "metadata": {},
   "outputs": [
    {
     "data": {
      "text/plain": [
       "5"
      ]
     },
     "execution_count": 29,
     "metadata": {},
     "output_type": "execute_result"
    }
   ],
   "source": [
    "my_list[-1]"
   ]
  },
  {
   "cell_type": "code",
   "execution_count": 30,
   "id": "f2da3c38",
   "metadata": {},
   "outputs": [
    {
     "data": {
      "text/plain": [
       "['abc', 2, 4]"
      ]
     },
     "execution_count": 30,
     "metadata": {},
     "output_type": "execute_result"
    }
   ],
   "source": [
    "my_list[:-1]"
   ]
  },
  {
   "cell_type": "code",
   "execution_count": 33,
   "id": "91afc373",
   "metadata": {},
   "outputs": [
    {
     "data": {
      "text/plain": [
       "['abc', 2, 4]"
      ]
     },
     "execution_count": 33,
     "metadata": {},
     "output_type": "execute_result"
    }
   ],
   "source": [
    "my_list[:-1:]"
   ]
  },
  {
   "cell_type": "code",
   "execution_count": 7,
   "id": "a102df5e",
   "metadata": {},
   "outputs": [
    {
     "name": "stdout",
     "output_type": "stream",
     "text": [
      "[1, 2, 3]\n",
      "4\n"
     ]
    }
   ],
   "source": [
    "lst_2d = [[1, 2, 3], [1, 4, 9]]\n",
    "print(lst_2d[0])\n",
    "print(lst_2d[1][1])"
   ]
  },
  {
   "cell_type": "code",
   "execution_count": 39,
   "id": "b073abb2",
   "metadata": {},
   "outputs": [
    {
     "name": "stdout",
     "output_type": "stream",
     "text": [
      "1 : cat\n",
      "2 : dog\n",
      "3 : fish\n"
     ]
    }
   ],
   "source": [
    "animal = [\"cat\", \"dog\", \"fish\"]\n",
    "for a_idx, a in enumerate(animal):\n",
    "    # print(str(a_idx + 1) + \" : \" + a)\n",
    "    print(f\"{a_idx+1} : {a}\")"
   ]
  },
  {
   "cell_type": "code",
   "execution_count": 4,
   "id": "592e6583",
   "metadata": {},
   "outputs": [
    {
     "name": "stdout",
     "output_type": "stream",
     "text": [
      "51 of 10 Rs Note \n",
      "3 of 1 Rs Coin.\n"
     ]
    }
   ],
   "source": [
    "price = 513\n",
    "r = price % 10\n",
    "print(f\"{price//10} of 10 Rs Note \\n{r} of 1 Rs Coin.\")"
   ]
  },
  {
   "cell_type": "markdown",
   "id": "acf0da23",
   "metadata": {},
   "source": [
    "### Multiply Matrices"
   ]
  },
  {
   "cell_type": "code",
   "execution_count": 11,
   "id": "c2373570",
   "metadata": {},
   "outputs": [
    {
     "name": "stdout",
     "output_type": "stream",
     "text": [
      "[[7, 10], [18, 26]]\n"
     ]
    }
   ],
   "source": [
    "mat1 = [[1, 2], [3, 5]]\n",
    "mat2 = [[1, 2], [3, 4]]\n",
    "mat3 = [[0, 0], [0, 0]]\n",
    "for m in range(len(mat1)):\n",
    "    for n in range(len(mat2)):\n",
    "        for o in range(2):\n",
    "            mat3[m][n] += mat1[m][o] * mat2[o][n]\n",
    "\n",
    "print(mat3)"
   ]
  },
  {
   "cell_type": "markdown",
   "id": "49c121c4",
   "metadata": {},
   "source": [
    "### List Comprehension"
   ]
  },
  {
   "cell_type": "code",
   "execution_count": 16,
   "id": "8c72f716",
   "metadata": {},
   "outputs": [
    {
     "data": {
      "text/plain": [
       "[1, 4, 9, 16]"
      ]
     },
     "execution_count": 16,
     "metadata": {},
     "output_type": "execute_result"
    }
   ],
   "source": [
    "mata = [1, 2, 3, 4]\n",
    "matsq = [x**2 for x in mata]\n",
    "matsq"
   ]
  },
  {
   "cell_type": "code",
   "execution_count": 17,
   "id": "ffc29e51",
   "metadata": {},
   "outputs": [
    {
     "data": {
      "text/plain": [
       "[3, 4]"
      ]
     },
     "execution_count": 17,
     "metadata": {},
     "output_type": "execute_result"
    }
   ],
   "source": [
    "matcondition = [x for x in mata if x > 2]\n",
    "matcondition"
   ]
  },
  {
   "cell_type": "code",
   "execution_count": 18,
   "id": "06f059a7",
   "metadata": {},
   "outputs": [
    {
     "data": {
      "text/plain": [
       "dict_items([('cat', 'meow'), ('dog', 'bark')])"
      ]
     },
     "execution_count": 18,
     "metadata": {},
     "output_type": "execute_result"
    }
   ],
   "source": [
    "d = {\"cat\": \"meow\", \"dog\": \"bark\"}\n",
    "d.items()"
   ]
  },
  {
   "cell_type": "code",
   "execution_count": 19,
   "id": "5748de1a",
   "metadata": {},
   "outputs": [
    {
     "data": {
      "text/plain": [
       "dict_keys(['cat', 'dog'])"
      ]
     },
     "execution_count": 19,
     "metadata": {},
     "output_type": "execute_result"
    }
   ],
   "source": [
    "d.keys()"
   ]
  },
  {
   "cell_type": "code",
   "execution_count": 20,
   "id": "ffeb9c3d",
   "metadata": {},
   "outputs": [
    {
     "data": {
      "text/plain": [
       "dict_values(['meow', 'bark'])"
      ]
     },
     "execution_count": 20,
     "metadata": {},
     "output_type": "execute_result"
    }
   ],
   "source": [
    "d.values()"
   ]
  },
  {
   "cell_type": "code",
   "execution_count": 22,
   "id": "7a2569ba",
   "metadata": {},
   "outputs": [
    {
     "data": {
      "text/plain": [
       "'meow'"
      ]
     },
     "execution_count": 22,
     "metadata": {},
     "output_type": "execute_result"
    }
   ],
   "source": [
    "d['cat']"
   ]
  },
  {
   "cell_type": "code",
   "execution_count": 24,
   "id": "6508ae7d",
   "metadata": {},
   "outputs": [
    {
     "name": "stdout",
     "output_type": "stream",
     "text": [
      "N/A\n",
      "meow\n"
     ]
    }
   ],
   "source": [
    "print(d.get(\"monkey\", \"N/A\"))\n",
    "print(d.get(\"cat\", \"N/A\"))"
   ]
  },
  {
   "cell_type": "markdown",
   "id": "79d3d087",
   "metadata": {},
   "source": [
    "### Mutable and Immutable Concept"
   ]
  },
  {
   "cell_type": "code",
   "execution_count": 25,
   "id": "671f83af",
   "metadata": {},
   "outputs": [
    {
     "name": "stdout",
     "output_type": "stream",
     "text": [
      "2552420040976\n"
     ]
    }
   ],
   "source": [
    "x = 2\n",
    "print(id(x))"
   ]
  },
  {
   "cell_type": "code",
   "execution_count": 26,
   "id": "b4e234b1",
   "metadata": {},
   "outputs": [
    {
     "name": "stdout",
     "output_type": "stream",
     "text": [
      "2552420041008\n"
     ]
    }
   ],
   "source": [
    "x = 3\n",
    "print(id(x))"
   ]
  },
  {
   "cell_type": "code",
   "execution_count": 28,
   "id": "ca540b32",
   "metadata": {},
   "outputs": [
    {
     "name": "stdout",
     "output_type": "stream",
     "text": [
      "2552520679664\n"
     ]
    }
   ],
   "source": [
    "my_str = \"Hello World\"\n",
    "print(id(my_str))"
   ]
  },
  {
   "cell_type": "code",
   "execution_count": 29,
   "id": "a4347c7e",
   "metadata": {},
   "outputs": [
    {
     "name": "stdout",
     "output_type": "stream",
     "text": [
      "2552497826672\n"
     ]
    }
   ],
   "source": [
    "my_str = \"Hello Bro\"\n",
    "print(id(my_str))"
   ]
  },
  {
   "cell_type": "code",
   "execution_count": 30,
   "id": "02cdc8f0",
   "metadata": {},
   "outputs": [
    {
     "name": "stdout",
     "output_type": "stream",
     "text": [
      "2552521258816\n"
     ]
    }
   ],
   "source": [
    "my_tuple = (1, 2, 3)\n",
    "print(id(my_tuple))"
   ]
  },
  {
   "cell_type": "code",
   "execution_count": 32,
   "id": "202ad8fc",
   "metadata": {},
   "outputs": [
    {
     "data": {
      "text/plain": [
       "['__add__',\n",
       " '__class__',\n",
       " '__class_getitem__',\n",
       " '__contains__',\n",
       " '__delattr__',\n",
       " '__dir__',\n",
       " '__doc__',\n",
       " '__eq__',\n",
       " '__format__',\n",
       " '__ge__',\n",
       " '__getattribute__',\n",
       " '__getitem__',\n",
       " '__getnewargs__',\n",
       " '__gt__',\n",
       " '__hash__',\n",
       " '__init__',\n",
       " '__init_subclass__',\n",
       " '__iter__',\n",
       " '__le__',\n",
       " '__len__',\n",
       " '__lt__',\n",
       " '__mul__',\n",
       " '__ne__',\n",
       " '__new__',\n",
       " '__reduce__',\n",
       " '__reduce_ex__',\n",
       " '__repr__',\n",
       " '__rmul__',\n",
       " '__setattr__',\n",
       " '__sizeof__',\n",
       " '__str__',\n",
       " '__subclasshook__',\n",
       " 'count',\n",
       " 'index']"
      ]
     },
     "execution_count": 32,
     "metadata": {},
     "output_type": "execute_result"
    }
   ],
   "source": [
    "dir(my_tuple)"
   ]
  },
  {
   "cell_type": "code",
   "execution_count": 34,
   "id": "97b1e12b",
   "metadata": {},
   "outputs": [
    {
     "data": {
      "text/plain": [
       "(1, 2, 3)"
      ]
     },
     "execution_count": 34,
     "metadata": {},
     "output_type": "execute_result"
    }
   ],
   "source": [
    "my_tuple.__add__((5, 6))\n",
    "my_tuple"
   ]
  },
  {
   "cell_type": "markdown",
   "id": "a19b3882",
   "metadata": {},
   "source": [
    "### OOP"
   ]
  },
  {
   "cell_type": "code",
   "execution_count": null,
   "id": "5138b377",
   "metadata": {},
   "outputs": [
    {
     "data": {
      "text/plain": [
       "'Saksham : 078BCT072'"
      ]
     },
     "execution_count": 37,
     "metadata": {},
     "output_type": "execute_result"
    }
   ],
   "source": [
    "class Student:\n",
    "    def __init__(self, name, roll):\n",
    "        self.name = name\n",
    "        self.roll = roll\n",
    "\n",
    "    def get_record(self):\n",
    "        return self.name + \" : \" + self.roll\n",
    "\n",
    "\n",
    "s1 = Student(\"Saksham\", \"078BCT072\") # Object of Class Student\n",
    "s1.get_record()"
   ]
  },
  {
   "cell_type": "code",
   "execution_count": 38,
   "id": "e2dca04b",
   "metadata": {},
   "outputs": [
    {
     "data": {
      "text/plain": [
       "'Saksham'"
      ]
     },
     "execution_count": 38,
     "metadata": {},
     "output_type": "execute_result"
    }
   ],
   "source": [
    "s1.name"
   ]
  },
  {
   "cell_type": "code",
   "execution_count": 39,
   "id": "0cf87ac3",
   "metadata": {},
   "outputs": [
    {
     "data": {
      "text/plain": [
       "'078BCT072'"
      ]
     },
     "execution_count": 39,
     "metadata": {},
     "output_type": "execute_result"
    }
   ],
   "source": [
    "s1.roll"
   ]
  },
  {
   "cell_type": "code",
   "execution_count": 40,
   "id": "f370b89e",
   "metadata": {},
   "outputs": [
    {
     "name": "stdout",
     "output_type": "stream",
     "text": [
      "This is a test class with str 2552515356240\n",
      "This is a test class with str 2552515350000\n",
      "This is a test class with str\n"
     ]
    },
    {
     "data": {
      "text/plain": [
       "This is a test class with repr"
      ]
     },
     "execution_count": 40,
     "metadata": {},
     "output_type": "execute_result"
    }
   ],
   "source": [
    "class Test:\n",
    "    def __init__(self):\n",
    "        print(self, id(self))\n",
    "\n",
    "    def __str__(self):\n",
    "        return \"This is a test class with str\"\n",
    "\n",
    "    def __repr__(self):\n",
    "        return \"This is a test class with repr\"\n",
    "\n",
    "\n",
    "t1 = Test()\n",
    "t2 = Test()\n",
    "print(t1)\n",
    "t2"
   ]
  },
  {
   "cell_type": "markdown",
   "id": "9ff21363",
   "metadata": {},
   "source": [
    "### Numpy"
   ]
  },
  {
   "cell_type": "markdown",
   "id": "7973e4f5",
   "metadata": {},
   "source": [
    "1. Create a numpy array\n",
    "2. create a 2D array\n",
    "3. find shape, size and dimension\n",
    "4. use random\n",
    "5. use linespace\n",
    "6. create a tuple\n",
    "\n",
    "Statistical Methods\n",
    "1. min\n",
    "2. max\n",
    "3. sum\n",
    "4. standard deviation\n",
    "5. variance\n",
    "6. transpose\n",
    "7. dot product"
   ]
  },
  {
   "cell_type": "code",
   "execution_count": 41,
   "id": "9e640e72",
   "metadata": {},
   "outputs": [],
   "source": [
    "import numpy as np\n",
    "\n",
    "my_array = np.array([1, 2, 3])"
   ]
  },
  {
   "cell_type": "code",
   "execution_count": 42,
   "id": "b764dfc5",
   "metadata": {},
   "outputs": [
    {
     "data": {
      "text/plain": [
       "array([1, 2, 3])"
      ]
     },
     "execution_count": 42,
     "metadata": {},
     "output_type": "execute_result"
    }
   ],
   "source": [
    "my_array"
   ]
  },
  {
   "cell_type": "code",
   "execution_count": 43,
   "id": "323c01e3",
   "metadata": {},
   "outputs": [
    {
     "data": {
      "text/plain": [
       "numpy.ndarray"
      ]
     },
     "execution_count": 43,
     "metadata": {},
     "output_type": "execute_result"
    }
   ],
   "source": [
    "type(my_array)"
   ]
  },
  {
   "cell_type": "code",
   "execution_count": 45,
   "id": "462ccf2b",
   "metadata": {},
   "outputs": [
    {
     "data": {
      "text/plain": [
       "3"
      ]
     },
     "execution_count": 45,
     "metadata": {},
     "output_type": "execute_result"
    }
   ],
   "source": [
    "my_array.size"
   ]
  },
  {
   "cell_type": "code",
   "execution_count": 47,
   "id": "935cf1d8",
   "metadata": {},
   "outputs": [
    {
     "data": {
      "text/plain": [
       "(2, 3)"
      ]
     },
     "execution_count": 47,
     "metadata": {},
     "output_type": "execute_result"
    }
   ],
   "source": [
    "my_2d_array = np.array([[1, 2, 3], [4, 5, 6]])\n",
    "my_2d_array.shape"
   ]
  },
  {
   "cell_type": "code",
   "execution_count": 48,
   "id": "8f9d9f6b",
   "metadata": {},
   "outputs": [
    {
     "data": {
      "text/plain": [
       "6"
      ]
     },
     "execution_count": 48,
     "metadata": {},
     "output_type": "execute_result"
    }
   ],
   "source": [
    "my_2d_array.size"
   ]
  },
  {
   "cell_type": "code",
   "execution_count": 56,
   "id": "5ed8ae07",
   "metadata": {},
   "outputs": [
    {
     "data": {
      "text/plain": [
       "array([[9, 2, 9],\n",
       "       [9, 6, 9],\n",
       "       [4, 4, 8]])"
      ]
     },
     "execution_count": 56,
     "metadata": {},
     "output_type": "execute_result"
    }
   ],
   "source": [
    "random_array = np.random.randint(1, 10, (3, 3))\n",
    "random_array"
   ]
  },
  {
   "cell_type": "code",
   "execution_count": 57,
   "id": "d8343026",
   "metadata": {},
   "outputs": [
    {
     "data": {
      "text/plain": [
       "array([4.        , 4.10204082, 4.20408163, 4.30612245, 4.40816327,\n",
       "       4.51020408, 4.6122449 , 4.71428571, 4.81632653, 4.91836735,\n",
       "       5.02040816, 5.12244898, 5.2244898 , 5.32653061, 5.42857143,\n",
       "       5.53061224, 5.63265306, 5.73469388, 5.83673469, 5.93877551,\n",
       "       6.04081633, 6.14285714, 6.24489796, 6.34693878, 6.44897959,\n",
       "       6.55102041, 6.65306122, 6.75510204, 6.85714286, 6.95918367,\n",
       "       7.06122449, 7.16326531, 7.26530612, 7.36734694, 7.46938776,\n",
       "       7.57142857, 7.67346939, 7.7755102 , 7.87755102, 7.97959184,\n",
       "       8.08163265, 8.18367347, 8.28571429, 8.3877551 , 8.48979592,\n",
       "       8.59183673, 8.69387755, 8.79591837, 8.89795918, 9.        ])"
      ]
     },
     "execution_count": 57,
     "metadata": {},
     "output_type": "execute_result"
    }
   ],
   "source": [
    "np.linspace(4,9)"
   ]
  },
  {
   "cell_type": "code",
   "execution_count": 58,
   "id": "94c0b9b0",
   "metadata": {},
   "outputs": [
    {
     "data": {
      "text/plain": [
       "9"
      ]
     },
     "execution_count": 58,
     "metadata": {},
     "output_type": "execute_result"
    }
   ],
   "source": [
    "random_array.max()"
   ]
  },
  {
   "cell_type": "code",
   "execution_count": 59,
   "id": "42bb1e61",
   "metadata": {},
   "outputs": [
    {
     "data": {
      "text/plain": [
       "2"
      ]
     },
     "execution_count": 59,
     "metadata": {},
     "output_type": "execute_result"
    }
   ],
   "source": [
    "random_array.min()"
   ]
  },
  {
   "cell_type": "code",
   "execution_count": 60,
   "id": "e3feea34",
   "metadata": {},
   "outputs": [
    {
     "data": {
      "text/plain": [
       "60"
      ]
     },
     "execution_count": 60,
     "metadata": {},
     "output_type": "execute_result"
    }
   ],
   "source": [
    "random_array.sum()"
   ]
  },
  {
   "cell_type": "code",
   "execution_count": 61,
   "id": "9adf427b",
   "metadata": {},
   "outputs": [
    {
     "data": {
      "text/plain": [
       "2.5819888974716116"
      ]
     },
     "execution_count": 61,
     "metadata": {},
     "output_type": "execute_result"
    }
   ],
   "source": [
    "random_array.std()"
   ]
  },
  {
   "cell_type": "code",
   "execution_count": 62,
   "id": "98c5b01a",
   "metadata": {},
   "outputs": [
    {
     "data": {
      "text/plain": [
       "6.666666666666668"
      ]
     },
     "execution_count": 62,
     "metadata": {},
     "output_type": "execute_result"
    }
   ],
   "source": [
    "random_array.var()"
   ]
  },
  {
   "cell_type": "code",
   "execution_count": 63,
   "id": "5c50db29",
   "metadata": {},
   "outputs": [
    {
     "data": {
      "text/plain": [
       "array([[9, 9, 4],\n",
       "       [2, 6, 4],\n",
       "       [9, 9, 8]])"
      ]
     },
     "execution_count": 63,
     "metadata": {},
     "output_type": "execute_result"
    }
   ],
   "source": [
    "random_array.transpose()"
   ]
  },
  {
   "cell_type": "code",
   "execution_count": 64,
   "id": "38315fee",
   "metadata": {},
   "outputs": [],
   "source": [
    "dot_prod = np.dot(random_array, random_array)"
   ]
  },
  {
   "cell_type": "code",
   "execution_count": 65,
   "id": "1603437e",
   "metadata": {},
   "outputs": [
    {
     "data": {
      "text/plain": [
       "array([[135,  66, 171],\n",
       "       [171,  90, 207],\n",
       "       [104,  64, 136]])"
      ]
     },
     "execution_count": 65,
     "metadata": {},
     "output_type": "execute_result"
    }
   ],
   "source": [
    "dot_prod"
   ]
  },
  {
   "cell_type": "code",
   "execution_count": 66,
   "id": "e61b2b7c",
   "metadata": {},
   "outputs": [
    {
     "name": "stdout",
     "output_type": "stream",
     "text": [
      "3\n",
      "(1, 1, 3)\n",
      "3\n"
     ]
    }
   ],
   "source": [
    "d = np.array([[[1,2,3]]])\n",
    "print(d.ndim)\n",
    "print(d.shape)\n",
    "print(d.size)"
   ]
  },
  {
   "cell_type": "markdown",
   "id": "61aaf18c",
   "metadata": {},
   "source": [
    "### Matplotlib"
   ]
  },
  {
   "cell_type": "code",
   "execution_count": 68,
   "id": "a5f5108e",
   "metadata": {},
   "outputs": [
    {
     "data": {
      "image/png": "[encoded data removed]",
      "text/plain": [
       "<Figure size 500x500 with 1 Axes>"
      ]
     },
     "metadata": {},
     "output_type": "display_data"
    }
   ],
   "source": [
    "import matplotlib.pyplot as plt\n",
    "\n",
    "x = [1, 2, 3, 4, 5]\n",
    "y = [1, 4, 9, 16, 25]\n",
    "plt.figure(figsize=(5, 5))\n",
    "plt.plot(x, y)\n",
    "plt.show()"
   ]
  },
  {
   "cell_type": "code",
   "execution_count": 86,
   "id": "3ec41bbb",
   "metadata": {},
   "outputs": [
    {
     "data": {
      "image/png": "[encoded data removed]",
      "text/plain": [
       "<Figure size 2000x400 with 3 Axes>"
      ]
     },
     "metadata": {},
     "output_type": "display_data"
    }
   ],
   "source": [
    "a = np.arange(0, 10, 0.2)\n",
    "b = np.sin(a)\n",
    "c = np.cos(a)\n",
    "plt.figure(figsize=(20, 4))\n",
    "plt.xlabel(\"Phase\")\n",
    "plt.ylabel(\"Amplitude\")\n",
    "\n",
    "plt.title(\"Sine Wave\")\n",
    "plt.subplot(1, 2, 1)\n",
    "plt.plot(a, b)\n",
    "\n",
    "plt.title(\"Cosine Wave\")\n",
    "plt.subplot(1, 2, 2)\n",
    "plt.plot(a, c)\n",
    "\n",
    "# plt.subplot((1, 2, 2), a, c)\n",
    "# plt.legend([\"Sine\", \"Cosine\"])\n",
    "\n",
    "plt.show()"
   ]
  },
  {
   "cell_type": "code",
   "execution_count": null,
   "id": "c378a94a",
   "metadata": {},
   "outputs": [],
   "source": []
  }
 ],
 "metadata": {
  "kernelspec": {
   "display_name": "Python 3",
   "language": "python",
   "name": "python3"
  },
  "language_info": {
   "codemirror_mode": {
    "name": "ipython",
    "version": 3
   },
   "file_extension": ".py",
   "mimetype": "text/x-python",
   "name": "python",
   "nbconvert_exporter": "python",
   "pygments_lexer": "ipython3",
   "version": "3.10.9"
  }
 },
 "nbformat": 4,
 "nbformat_minor": 5
}
