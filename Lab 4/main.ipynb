{
 "cells": [
  {
   "cell_type": "markdown",
   "id": "51b093bf",
   "metadata": {},
   "source": [
    "#### We will be using Sklearn today"
   ]
  },
  {
   "cell_type": "code",
   "execution_count": null,
   "id": "ffeacf28",
   "metadata": {
    "vscode": {
     "languageId": "plaintext"
    }
   },
   "outputs": [],
   "source": []
  },
  {
   "cell_type": "markdown",
   "id": "df2116c5",
   "metadata": {},
   "source": []
  }
 ],
 "metadata": {
  "language_info": {
   "name": "python"
  }
 },
 "nbformat": 4,
 "nbformat_minor": 5
}
