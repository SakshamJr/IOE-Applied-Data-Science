{
 "cells": [
  {
   "cell_type": "markdown",
   "id": "4503f949",
   "metadata": {},
   "source": [
    "### Numpy"
   ]
  },
  {
   "cell_type": "code",
   "execution_count": 40,
   "id": "000a5eb9",
   "metadata": {},
   "outputs": [],
   "source": [
    "import numpy as np\n",
    "my_arr = np.array([[1,2,3],[4,5,6],[7,8,9]])\n",
    "np.random.seed(42)\n"
   ]
  },
  {
   "cell_type": "code",
   "execution_count": 2,
   "id": "0e71e21b",
   "metadata": {},
   "outputs": [
    {
     "data": {
      "text/plain": [
       "array([[ 2,  3,  4],\n",
       "       [ 5,  6,  7],\n",
       "       [ 8,  9, 10]])"
      ]
     },
     "execution_count": 2,
     "metadata": {},
     "output_type": "execute_result"
    }
   ],
   "source": [
    "# Broadcasting\n",
    "my_arr + 1"
   ]
  },
  {
   "cell_type": "code",
   "execution_count": 3,
   "id": "37cc3467",
   "metadata": {},
   "outputs": [
    {
     "data": {
      "text/plain": [
       "array([[1, 4, 7],\n",
       "       [2, 5, 8],\n",
       "       [3, 6, 9]])"
      ]
     },
     "execution_count": 3,
     "metadata": {},
     "output_type": "execute_result"
    }
   ],
   "source": [
    "my_arr.T"
   ]
  },
  {
   "cell_type": "code",
   "execution_count": 4,
   "id": "3b752708",
   "metadata": {},
   "outputs": [
    {
     "data": {
      "text/plain": [
       "(3, 3)"
      ]
     },
     "execution_count": 4,
     "metadata": {},
     "output_type": "execute_result"
    }
   ],
   "source": [
    "my_arr.shape"
   ]
  },
  {
   "cell_type": "code",
   "execution_count": 5,
   "id": "3fbea2b3",
   "metadata": {},
   "outputs": [
    {
     "data": {
      "text/plain": [
       "array([[ 30,  36,  42],\n",
       "       [ 66,  81,  96],\n",
       "       [102, 126, 150]])"
      ]
     },
     "execution_count": 5,
     "metadata": {},
     "output_type": "execute_result"
    }
   ],
   "source": [
    "# Matrix Multiplication\n",
    "my_arr @ my_arr"
   ]
  },
  {
   "cell_type": "code",
   "execution_count": 7,
   "id": "00272353",
   "metadata": {},
   "outputs": [
    {
     "data": {
      "text/plain": [
       "array([[1, 1],\n",
       "       [1, 1],\n",
       "       [1, 1]])"
      ]
     },
     "execution_count": 7,
     "metadata": {},
     "output_type": "execute_result"
    }
   ],
   "source": [
    "one_mat = np.ones((3, 2), np.int32)\n",
    "one_mat"
   ]
  },
  {
   "cell_type": "code",
   "execution_count": 11,
   "id": "ba0fc0e5",
   "metadata": {},
   "outputs": [
    {
     "data": {
      "text/plain": [
       "array([[3, 5, 4, 3],\n",
       "       [1, 8, 2, 1]])"
      ]
     },
     "execution_count": 11,
     "metadata": {},
     "output_type": "execute_result"
    }
   ],
   "source": [
    "# Random\n",
    "rand_arr = np.random.randint(1, 10, size=(2, 4))\n",
    "rand_arr"
   ]
  },
  {
   "cell_type": "code",
   "execution_count": 44,
   "id": "2db5746a",
   "metadata": {},
   "outputs": [
    {
     "data": {
      "text/plain": [
       "array([[86, 99, 94, 90],\n",
       "       [87, 86, 98, 90],\n",
       "       [90, 83, 87, 82],\n",
       "       [81, 91, 85, 81],\n",
       "       [80, 91, 91, 96],\n",
       "       [89, 95, 94, 94],\n",
       "       [98, 91, 99, 82],\n",
       "       [84, 98, 86, 88],\n",
       "       [86, 97, 83, 93],\n",
       "       [97, 88, 81, 99]])"
      ]
     },
     "execution_count": 44,
     "metadata": {},
     "output_type": "execute_result"
    }
   ],
   "source": [
    "np.random.seed(42)\n",
    "marks = np.random.randint(80, 100, size=(10, 4))\n",
    "marks"
   ]
  },
  {
   "cell_type": "code",
   "execution_count": 15,
   "id": "befea017",
   "metadata": {},
   "outputs": [
    {
     "data": {
      "text/plain": [
       "array([894, 872, 900, 876])"
      ]
     },
     "execution_count": 15,
     "metadata": {},
     "output_type": "execute_result"
    }
   ],
   "source": [
    "marks.sum(axis=0)"
   ]
  },
  {
   "cell_type": "code",
   "execution_count": 16,
   "id": "a88fb29d",
   "metadata": {},
   "outputs": [
    {
     "data": {
      "text/plain": [
       "array([363, 350, 359, 353, 338, 364, 349, 374, 342, 350])"
      ]
     },
     "execution_count": 16,
     "metadata": {},
     "output_type": "execute_result"
    }
   ],
   "source": [
    "marks.sum(axis=1)"
   ]
  },
  {
   "cell_type": "code",
   "execution_count": 17,
   "id": "242aa9d5",
   "metadata": {},
   "outputs": [
    {
     "data": {
      "text/plain": [
       "array([89.4, 87.2, 90. , 87.6])"
      ]
     },
     "execution_count": 17,
     "metadata": {},
     "output_type": "execute_result"
    }
   ],
   "source": [
    "marks.mean(axis=0)"
   ]
  },
  {
   "cell_type": "code",
   "execution_count": null,
   "id": "618ddd46",
   "metadata": {},
   "outputs": [
    {
     "data": {
      "text/plain": [
       "array([90.75, 87.5 , 89.75, 88.25, 84.5 , 91.  , 87.25, 93.5 , 85.5 ,\n",
       "       87.5 ])"
      ]
     },
     "execution_count": 18,
     "metadata": {},
     "output_type": "execute_result"
    }
   ],
   "source": [
    "marks.mean(axis=1) # Y axis ko mean values "
   ]
  },
  {
   "cell_type": "code",
   "execution_count": null,
   "id": "02cac1fc",
   "metadata": {},
   "outputs": [
    {
     "data": {
      "text/plain": [
       "array([95, 95, 96, 97])"
      ]
     },
     "execution_count": 22,
     "metadata": {},
     "output_type": "execute_result"
    }
   ],
   "source": [
    "marks.max(axis=0) # X axis ko maximum values"
   ]
  },
  {
   "cell_type": "code",
   "execution_count": null,
   "id": "4d5f0fd5",
   "metadata": {},
   "outputs": [
    {
     "data": {
      "text/plain": [
       "97"
      ]
     },
     "execution_count": 23,
     "metadata": {},
     "output_type": "execute_result"
    }
   ],
   "source": [
    "marks.max() # Overall Maximum"
   ]
  },
  {
   "cell_type": "code",
   "execution_count": null,
   "id": "9be097cb",
   "metadata": {},
   "outputs": [],
   "source": [
    "marks_offset = marks - marks.mean(axis=0) # WORKS ON THE BASIS OF BROADCASTING"
   ]
  },
  {
   "cell_type": "code",
   "execution_count": 38,
   "id": "4bc6130c",
   "metadata": {},
   "outputs": [
    {
     "data": {
      "text/plain": [
       "array([[ 4.8, -2.3, -6.5,  2.8],\n",
       "       [-4.2, -0.3, -3.5, -0.2],\n",
       "       [ 6.8,  4.7, -4.5, -4.2],\n",
       "       [-5.2,  6.7,  2.5, -3.2],\n",
       "       [-0.2, -4.3,  6.5, -7.2],\n",
       "       [ 9.8, -5.3, -2.5, -0.2],\n",
       "       [ 0.8,  3.7,  1.5,  7.8],\n",
       "       [-5.2,  0.7, -3.5,  3.8],\n",
       "       [-3.2,  0.7,  1.5, -9.2],\n",
       "       [-4.2, -4.3,  8.5,  9.8]])"
      ]
     },
     "execution_count": 38,
     "metadata": {},
     "output_type": "execute_result"
    }
   ],
   "source": [
    "marks_offset"
   ]
  },
  {
   "cell_type": "code",
   "execution_count": 36,
   "id": "6b00fab2",
   "metadata": {},
   "outputs": [
    {
     "data": {
      "text/plain": [
       "array([88.2, 90.3, 86.5, 89.2])"
      ]
     },
     "execution_count": 36,
     "metadata": {},
     "output_type": "execute_result"
    }
   ],
   "source": [
    "marks.mean(axis=0)"
   ]
  },
  {
   "cell_type": "code",
   "execution_count": 50,
   "id": "f7462a98",
   "metadata": {},
   "outputs": [
    {
     "data": {
      "text/plain": [
       "1"
      ]
     },
     "execution_count": 50,
     "metadata": {},
     "output_type": "execute_result"
    }
   ],
   "source": [
    "marks.argmax()"
   ]
  },
  {
   "cell_type": "code",
   "execution_count": null,
   "id": "751b68ef",
   "metadata": {},
   "outputs": [
    {
     "data": {
      "text/plain": [
       "2"
      ]
     },
     "execution_count": 49,
     "metadata": {},
     "output_type": "execute_result"
    }
   ],
   "source": [
    "np.array([1, 2, 7, 3, 2]).argmax()"
   ]
  },
  {
   "cell_type": "code",
   "execution_count": 51,
   "id": "61ccd1fb",
   "metadata": {},
   "outputs": [
    {
     "data": {
      "text/plain": [
       "array([6, 0, 6, 9], dtype=int64)"
      ]
     },
     "execution_count": 51,
     "metadata": {},
     "output_type": "execute_result"
    }
   ],
   "source": [
    "marks.argmax(axis=0)"
   ]
  },
  {
   "cell_type": "code",
   "execution_count": 52,
   "id": "7e4b1384",
   "metadata": {},
   "outputs": [
    {
     "data": {
      "text/plain": [
       "array([1, 2, 0, 1, 3, 1, 2, 1, 1, 3], dtype=int64)"
      ]
     },
     "execution_count": 52,
     "metadata": {},
     "output_type": "execute_result"
    }
   ],
   "source": [
    "marks.argmax(axis=1)"
   ]
  },
  {
   "cell_type": "code",
   "execution_count": null,
   "id": "bc977247",
   "metadata": {},
   "outputs": [
    {
     "name": "stdout",
     "output_type": "stream",
     "text": [
      "Help on built-in function argmax:\n",
      "\n",
      "argmax(...) method of numpy.ndarray instance\n",
      "    a.argmax(axis=None, out=None, *, keepdims=False)\n",
      "    \n",
      "    Return indices of the maximum values along the given axis.\n",
      "    \n",
      "    Refer to `numpy.argmax` for full documentation.\n",
      "    \n",
      "    See Also\n",
      "    --------\n",
      "    numpy.argmax : equivalent function\n",
      "\n"
     ]
    }
   ],
   "source": [
    "help(marks.argmax) # Parameters herna lai"
   ]
  },
  {
   "cell_type": "code",
   "execution_count": 54,
   "id": "440397d2",
   "metadata": {},
   "outputs": [
    {
     "data": {
      "text/plain": [
       "array([[86, 87, 90, 81, 80, 89, 98, 84, 86, 97],\n",
       "       [99, 86, 83, 91, 91, 95, 91, 98, 97, 88],\n",
       "       [94, 98, 87, 85, 91, 94, 99, 86, 83, 81],\n",
       "       [90, 90, 82, 81, 96, 94, 82, 88, 93, 99]])"
      ]
     },
     "execution_count": 54,
     "metadata": {},
     "output_type": "execute_result"
    }
   ],
   "source": [
    "marks.T"
   ]
  },
  {
   "cell_type": "code",
   "execution_count": 56,
   "id": "732584d5",
   "metadata": {},
   "outputs": [
    {
     "data": {
      "text/plain": [
       "array([[[86, 99, 94, 90, 87, 86, 98, 90, 90, 83, 87, 82, 81, 91, 85, 81,\n",
       "         80, 91, 91, 96],\n",
       "        [89, 95, 94, 94, 98, 91, 99, 82, 84, 98, 86, 88, 86, 97, 83, 93,\n",
       "         97, 88, 81, 99]]])"
      ]
     },
     "execution_count": 56,
     "metadata": {},
     "output_type": "execute_result"
    }
   ],
   "source": [
    "marks.reshape(1,2,20)"
   ]
  },
  {
   "cell_type": "code",
   "execution_count": null,
   "id": "23146893",
   "metadata": {},
   "outputs": [
    {
     "data": {
      "text/plain": [
       "array([[[86, 99, 94, 90, 87, 86, 98, 90, 90, 83],\n",
       "        [87, 82, 81, 91, 85, 81, 80, 91, 91, 96],\n",
       "        [89, 95, 94, 94, 98, 91, 99, 82, 84, 98],\n",
       "        [86, 88, 86, 97, 83, 93, 97, 88, 81, 99]]])"
      ]
     },
     "execution_count": 57,
     "metadata": {},
     "output_type": "execute_result"
    }
   ],
   "source": [
    "marks.reshape(1,4,10) # 3 Dimension Data"
   ]
  },
  {
   "cell_type": "code",
   "execution_count": null,
   "id": "6ebdb5d2",
   "metadata": {},
   "outputs": [
    {
     "data": {
      "text/plain": [
       "array([[86, 99, 94, 90, 87, 86, 98, 90, 90, 83],\n",
       "       [87, 82, 81, 91, 85, 81, 80, 91, 91, 96],\n",
       "       [89, 95, 94, 94, 98, 91, 99, 82, 84, 98],\n",
       "       [86, 88, 86, 97, 83, 93, 97, 88, 81, 99]])"
      ]
     },
     "execution_count": 58,
     "metadata": {},
     "output_type": "execute_result"
    }
   ],
   "source": [
    "marks.reshape(4,10) # 2 Dimension Data"
   ]
  },
  {
   "cell_type": "markdown",
   "id": "d34d1b18",
   "metadata": {},
   "source": [
    "### Pandas"
   ]
  },
  {
   "cell_type": "markdown",
   "id": "4a417f80",
   "metadata": {},
   "source": []
  }
 ],
 "metadata": {
  "kernelspec": {
   "display_name": "Python 3",
   "language": "python",
   "name": "python3"
  },
  "language_info": {
   "codemirror_mode": {
    "name": "ipython",
    "version": 3
   },
   "file_extension": ".py",
   "mimetype": "text/x-python",
   "name": "python",
   "nbconvert_exporter": "python",
   "pygments_lexer": "ipython3",
   "version": "3.10.9"
  }
 },
 "nbformat": 4,
 "nbformat_minor": 5
}
