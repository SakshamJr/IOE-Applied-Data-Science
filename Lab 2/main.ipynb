{
 "cells": [
  {
   "cell_type": "markdown",
   "id": "4503f949",
   "metadata": {},
   "source": [
    "### Numpy"
   ]
  },
  {
   "cell_type": "code",
   "execution_count": 1,
   "id": "000a5eb9",
   "metadata": {},
   "outputs": [],
   "source": [
    "import numpy as np\n",
    "my_arr = np.array([[1,2,3],[4,5,6],[7,8,9]])\n"
   ]
  },
  {
   "cell_type": "code",
   "execution_count": 2,
   "id": "0e71e21b",
   "metadata": {},
   "outputs": [
    {
     "data": {
      "text/plain": [
       "array([[ 2,  3,  4],\n",
       "       [ 5,  6,  7],\n",
       "       [ 8,  9, 10]])"
      ]
     },
     "execution_count": 2,
     "metadata": {},
     "output_type": "execute_result"
    }
   ],
   "source": [
    "# Broadcasting\n",
    "my_arr + 1"
   ]
  },
  {
   "cell_type": "code",
   "execution_count": 3,
   "id": "37cc3467",
   "metadata": {},
   "outputs": [
    {
     "data": {
      "text/plain": [
       "array([[1, 4, 7],\n",
       "       [2, 5, 8],\n",
       "       [3, 6, 9]])"
      ]
     },
     "execution_count": 3,
     "metadata": {},
     "output_type": "execute_result"
    }
   ],
   "source": [
    "my_arr.T"
   ]
  },
  {
   "cell_type": "code",
   "execution_count": 4,
   "id": "3b752708",
   "metadata": {},
   "outputs": [
    {
     "data": {
      "text/plain": [
       "(3, 3)"
      ]
     },
     "execution_count": 4,
     "metadata": {},
     "output_type": "execute_result"
    }
   ],
   "source": [
    "my_arr.shape"
   ]
  },
  {
   "cell_type": "code",
   "execution_count": 5,
   "id": "3fbea2b3",
   "metadata": {},
   "outputs": [
    {
     "data": {
      "text/plain": [
       "array([[ 30,  36,  42],\n",
       "       [ 66,  81,  96],\n",
       "       [102, 126, 150]])"
      ]
     },
     "execution_count": 5,
     "metadata": {},
     "output_type": "execute_result"
    }
   ],
   "source": [
    "# Matrix Multiplication\n",
    "my_arr @ my_arr"
   ]
  },
  {
   "cell_type": "code",
   "execution_count": 7,
   "id": "00272353",
   "metadata": {},
   "outputs": [
    {
     "data": {
      "text/plain": [
       "array([[1, 1],\n",
       "       [1, 1],\n",
       "       [1, 1]])"
      ]
     },
     "execution_count": 7,
     "metadata": {},
     "output_type": "execute_result"
    }
   ],
   "source": [
    "one_mat = np.ones((3, 2), np.int32)\n",
    "one_mat"
   ]
  },
  {
   "cell_type": "code",
   "execution_count": 11,
   "id": "ba0fc0e5",
   "metadata": {},
   "outputs": [
    {
     "data": {
      "text/plain": [
       "array([[3, 5, 4, 3],\n",
       "       [1, 8, 2, 1]])"
      ]
     },
     "execution_count": 11,
     "metadata": {},
     "output_type": "execute_result"
    }
   ],
   "source": [
    "# Random\n",
    "rand_arr = np.random.randint(1, 10, size=(2, 4))\n",
    "rand_arr"
   ]
  },
  {
   "cell_type": "code",
   "execution_count": 12,
   "id": "2db5746a",
   "metadata": {},
   "outputs": [
    {
     "data": {
      "text/plain": [
       "array([[86, 91, 95, 91],\n",
       "       [92, 81, 96, 81],\n",
       "       [91, 89, 90, 89],\n",
       "       [87, 85, 93, 88],\n",
       "       [85, 91, 81, 81],\n",
       "       [93, 91, 95, 85],\n",
       "       [88, 88, 90, 83],\n",
       "       [95, 95, 87, 97],\n",
       "       [82, 80, 83, 97],\n",
       "       [95, 81, 90, 84]])"
      ]
     },
     "execution_count": 12,
     "metadata": {},
     "output_type": "execute_result"
    }
   ],
   "source": [
    "marks = np.random.randint(80, 100, size=(10, 4))\n",
    "marks"
   ]
  },
  {
   "cell_type": "code",
   "execution_count": 15,
   "id": "befea017",
   "metadata": {},
   "outputs": [
    {
     "data": {
      "text/plain": [
       "array([894, 872, 900, 876])"
      ]
     },
     "execution_count": 15,
     "metadata": {},
     "output_type": "execute_result"
    }
   ],
   "source": [
    "marks.sum(axis=0)"
   ]
  },
  {
   "cell_type": "code",
   "execution_count": 16,
   "id": "a88fb29d",
   "metadata": {},
   "outputs": [
    {
     "data": {
      "text/plain": [
       "array([363, 350, 359, 353, 338, 364, 349, 374, 342, 350])"
      ]
     },
     "execution_count": 16,
     "metadata": {},
     "output_type": "execute_result"
    }
   ],
   "source": [
    "marks.sum(axis=1)"
   ]
  },
  {
   "cell_type": "code",
   "execution_count": 17,
   "id": "242aa9d5",
   "metadata": {},
   "outputs": [
    {
     "data": {
      "text/plain": [
       "array([89.4, 87.2, 90. , 87.6])"
      ]
     },
     "execution_count": 17,
     "metadata": {},
     "output_type": "execute_result"
    }
   ],
   "source": [
    "marks.mean(axis=0)"
   ]
  },
  {
   "cell_type": "code",
   "execution_count": null,
   "id": "618ddd46",
   "metadata": {},
   "outputs": [
    {
     "data": {
      "text/plain": [
       "array([90.75, 87.5 , 89.75, 88.25, 84.5 , 91.  , 87.25, 93.5 , 85.5 ,\n",
       "       87.5 ])"
      ]
     },
     "execution_count": 18,
     "metadata": {},
     "output_type": "execute_result"
    }
   ],
   "source": [
    "marks.mean(axis=1) # Y axis ko mean values "
   ]
  },
  {
   "cell_type": "code",
   "execution_count": null,
   "id": "02cac1fc",
   "metadata": {},
   "outputs": [
    {
     "data": {
      "text/plain": [
       "array([95, 95, 96, 97])"
      ]
     },
     "execution_count": 22,
     "metadata": {},
     "output_type": "execute_result"
    }
   ],
   "source": [
    "marks.max(axis=0) # X axis ko maximum values"
   ]
  },
  {
   "cell_type": "code",
   "execution_count": null,
   "id": "4d5f0fd5",
   "metadata": {},
   "outputs": [
    {
     "data": {
      "text/plain": [
       "97"
      ]
     },
     "execution_count": 23,
     "metadata": {},
     "output_type": "execute_result"
    }
   ],
   "source": [
    "marks.max() # Overall Maximum"
   ]
  },
  {
   "cell_type": "code",
   "execution_count": null,
   "id": "21276444",
   "metadata": {},
   "outputs": [],
   "source": []
  }
 ],
 "metadata": {
  "kernelspec": {
   "display_name": "Python 3",
   "language": "python",
   "name": "python3"
  },
  "language_info": {
   "codemirror_mode": {
    "name": "ipython",
    "version": 3
   },
   "file_extension": ".py",
   "mimetype": "text/x-python",
   "name": "python",
   "nbconvert_exporter": "python",
   "pygments_lexer": "ipython3",
   "version": "3.10.9"
  }
 },
 "nbformat": 4,
 "nbformat_minor": 5
}
